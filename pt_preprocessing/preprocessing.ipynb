{
 "cells": [
  {
   "cell_type": "code",
   "execution_count": 237,
   "metadata": {},
   "outputs": [],
   "source": [
    "import numpy as np "
   ]
  },
  {
   "cell_type": "code",
   "execution_count": 238,
   "metadata": {},
   "outputs": [],
   "source": [
    "a = np.array([[np.nan, 1, -1],\n",
    "             [3, 2, 1],\n",
    "             [4, 1, 2],\n",
    "             [np.nan, 2, 3]])"
   ]
  },
  {
   "cell_type": "code",
   "execution_count": 239,
   "metadata": {},
   "outputs": [
    {
     "data": {
      "text/plain": [
       "array([[nan,  1., -1.],\n",
       "       [ 3.,  2.,  1.],\n",
       "       [ 4.,  1.,  2.],\n",
       "       [nan,  2.,  3.]])"
      ]
     },
     "execution_count": 239,
     "metadata": {},
     "output_type": "execute_result"
    }
   ],
   "source": [
    "a"
   ]
  },
  {
   "cell_type": "code",
   "execution_count": 240,
   "metadata": {},
   "outputs": [],
   "source": [
    "class KNN:\n",
    "    def __init__(self, k=3):\n",
    "        self.k = k\n",
    "        self.train_X = None\n",
    "        self.train_y = None\n",
    "    \n",
    "    def fit(self, X, y):\n",
    "        self.train_X = X\n",
    "        self.train_y = y\n",
    "    \n",
    "    def predict(self, X):\n",
    "        if X.shape[0] == 0:\n",
    "            return X.squeeze()\n",
    "        d = self._euclid_dist(self.train_X, X)\n",
    "        knl = self._k_nearest_labels(d, self.train_y)\n",
    "        print(knl)\n",
    "        if self.k == 1:\n",
    "            return knl.squeeze()[:, np.newaxis]\n",
    "        else:\n",
    "            return np.array([np.argmax(np.bincount(y.squeeze().astype(np.int64))) for y in knl])\n",
    "    \n",
    "    def _euclid_dist(self, X_known, X_unknown):\n",
    "        sqrt = np.sqrt\n",
    "        sm = np.sum\n",
    "        return np.array([sqrt(sm((x - X_unknown) ** 2, axis=1)) for x in X_known]).T\n",
    "    \n",
    "    def _k_nearest_labels(self, dists, y_known):\n",
    "        num_pred = dists.shape[0]\n",
    "        n_nearest = []\n",
    "        closest_y = None\n",
    "        for j in range(num_pred):\n",
    "            dst = dists[j]\n",
    "            closest_y = y_known[np.argsort(dst)][:self.k]        \n",
    "            n_nearest.append(closest_y)\n",
    "        return np.asarray(n_nearest)"
   ]
  },
  {
   "cell_type": "code",
   "execution_count": 241,
   "metadata": {},
   "outputs": [],
   "source": [
    "def fill_knn(predictors, target, k=3):\n",
    "    not_nan_idx = ~np.isnan(target)\n",
    "    if len(target[~not_nan_idx]) == 0:\n",
    "        return None\n",
    "    if len(predictors.shape) == 1:\n",
    "        predictors = predictors[:, np.newaxis]\n",
    "    if len(target.shape) == 1:\n",
    "        target = target[:, np.newaxis]\n",
    "    X_train, y_train = predictors[not_nan_idx, :], target[not_nan_idx, :]\n",
    "    knn = KNN(k)\n",
    "    knn.fit(X_train, y_train)\n",
    "    X_test = predictors[~not_nan_idx, :]\n",
    "    print(\"X_test.shape:\", X_test.shape)\n",
    "    target[~not_nan_idx] = knn.predict(X_test)"
   ]
  },
  {
   "cell_type": "code",
   "execution_count": 242,
   "metadata": {},
   "outputs": [
    {
     "name": "stdout",
     "output_type": "stream",
     "text": [
      "X_test.shape: (2, 1)\n",
      "X.shape: (2, 1)\n",
      "d.shape: (2, 2)\n",
      "KNL shape: (2, 1, 1)\n",
      "[[[3.]]\n",
      "\n",
      " [[4.]]]\n",
      "KNL SQUEEZE SHAPE: (2,)\n"
     ]
    }
   ],
   "source": [
    "fill_knn(a[:, 2], a[:, 0], k=1)"
   ]
  },
  {
   "cell_type": "code",
   "execution_count": 243,
   "metadata": {},
   "outputs": [
    {
     "data": {
      "text/plain": [
       "array([[ 3.,  1., -1.],\n",
       "       [ 3.,  2.,  1.],\n",
       "       [ 4.,  1.,  2.],\n",
       "       [ 4.,  2.,  3.]])"
      ]
     },
     "execution_count": 243,
     "metadata": {},
     "output_type": "execute_result"
    }
   ],
   "source": [
    "a"
   ]
  },
  {
   "cell_type": "code",
   "execution_count": null,
   "metadata": {},
   "outputs": [],
   "source": []
  },
  {
   "cell_type": "code",
   "execution_count": null,
   "metadata": {},
   "outputs": [],
   "source": []
  }
 ],
 "metadata": {
  "kernelspec": {
   "display_name": "Python 3",
   "language": "python",
   "name": "python3"
  },
  "language_info": {
   "codemirror_mode": {
    "name": "ipython",
    "version": 3
   },
   "file_extension": ".py",
   "mimetype": "text/x-python",
   "name": "python",
   "nbconvert_exporter": "python",
   "pygments_lexer": "ipython3",
   "version": "3.6.2"
  }
 },
 "nbformat": 4,
 "nbformat_minor": 2
}
