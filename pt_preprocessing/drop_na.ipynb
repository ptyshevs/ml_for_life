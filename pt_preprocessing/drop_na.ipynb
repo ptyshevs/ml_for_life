{
 "cells": [
  {
   "cell_type": "code",
   "execution_count": 521,
   "metadata": {},
   "outputs": [],
   "source": [
    "import numpy as np"
   ]
  },
  {
   "cell_type": "code",
   "execution_count": 522,
   "metadata": {},
   "outputs": [],
   "source": [
    "a = np.array([[3, 2, 1],\n",
    "              [1, 2, 3],\n",
    "              [1, 5, np.nan],\n",
    "              [np.nan, 8, 9],\n",
    "              [2, 2, 2]])"
   ]
  },
  {
   "cell_type": "code",
   "execution_count": 523,
   "metadata": {},
   "outputs": [],
   "source": [
    "def drop_na_naive(a, axis=0):\n",
    "    if axis == 0:\n",
    "        return a[~np.isnan(a).any(1), :]\n",
    "    else:\n",
    "        return a[:, ~np.isnan(a).any(0).T]"
   ]
  },
  {
   "cell_type": "code",
   "execution_count": 524,
   "metadata": {},
   "outputs": [],
   "source": [
    "def fill_na(a, value='mean', inplace=False):\n",
    "    if not inplace:\n",
    "        a = np.copy(a)\n",
    "    f = np.nanmean\n",
    "    if value == 'median':\n",
    "        f = np.nanmedian\n",
    "    elif value == 'mode':\n",
    "        f = lambda col: np.unique(col)[0]\n",
    "    for i in range(a.shape[1]):\n",
    "        col_mean = f(a[:, i])\n",
    "        a[np.where(np.isnan(a[:, i])), i] = col_mean\n",
    "    return a"
   ]
  },
  {
   "cell_type": "code",
   "execution_count": 525,
   "metadata": {},
   "outputs": [],
   "source": [
    "class LinearRegression:\n",
    "    def __init__(self, alpha=0.05, max_iter=100):\n",
    "        self.alpha = alpha\n",
    "        self.max_iter = max_iter\n",
    "        self.weights = None\n",
    "        self.bias = None\n",
    "    \n",
    "    def fit(self, X, y):\n",
    "        self.log = []\n",
    "        self._init_weights(X)\n",
    "        n = X.shape[0]\n",
    "        for epoch in range(self.max_iter):\n",
    "            y_pred = X @ self.weights + self.bias\n",
    "            err = y_pred - y\n",
    "            try:\n",
    "                self.weights -= self.alpha * (err.T @ X).T / n\n",
    "            except ValueError as e:\n",
    "                print(\"err.T @ X shape:\", (err.T @ X).shape)\n",
    "                print(\"weights shape:\", self.weights.shape)\n",
    "                print(e)\n",
    "                break\n",
    "            self.bias -= self.alpha * np.mean(err)\n",
    "                \n",
    "    def predict(self, X):\n",
    "        return X @ self.weights + self.bias\n",
    "    \n",
    "    def _init_weights(self, X):\n",
    "        self.weights = np.random.randn(X.shape[1], 1) / 100\n",
    "        if len(self.weights.shape) == 1:\n",
    "            self.weights = self.weights.reshape(1, -1)\n",
    "        self.bias = 1"
   ]
  },
  {
   "cell_type": "code",
   "execution_count": 537,
   "metadata": {},
   "outputs": [],
   "source": [
    "def standardize(a, with_mean=None, with_std=None):\n",
    "    m = np.nanmean(a, axis=0) if with_mean is None else with_mean\n",
    "    s = np.nanstd(a, axis=0) if with_std is None else with_std\n",
    "    a = (a - m) / s\n",
    "    return a, m, s\n",
    "\n",
    "def normalize(a, t_min=0, t_max=1):\n",
    "    maxes = np.nanmax(a, axis=0)\n",
    "    mins = np.nanmin(a, axis=0)\n",
    "    a = (a - mins)/(maxes - mins)\n",
    "    return a, maxes, mins"
   ]
  },
  {
   "cell_type": "code",
   "execution_count": 527,
   "metadata": {},
   "outputs": [],
   "source": [
    "def fill_lr(predictors, target):\n",
    "    \"\"\"\n",
    "    Assuming predictors to have all data necessary\n",
    "    \"\"\"\n",
    "    print(\"target shape:\", target.shape)\n",
    "    not_nan_idx = ~np.isnan(target)\n",
    "    if len(predictors.shape) == 1:\n",
    "        predictors = predictors[:, np.newaxis]\n",
    "    if len(target.shape) == 1:\n",
    "        target = target[:, np.newaxis]\n",
    "    print(\"NOT NAN IDX:\", not_nan_idx)\n",
    "    print(\"SHAPE:\", predictors.squeeze().shape)\n",
    "    X_train, y_train = predictors[not_nan_idx, :], target[not_nan_idx, :]\n",
    "    X_train, train_mean, train_std = standardize(X_train)\n",
    "    lr = LinearRegression()\n",
    "    lr.fit(X_train, y_train)\n",
    "    X_test, _, _ = standardize(predictors[~not_nan_idx, :], train_mean, train_std)\n",
    "    target[~not_nan_idx] = lr.predict(X_test).squeeze()"
   ]
  },
  {
   "cell_type": "code",
   "execution_count": 531,
   "metadata": {},
   "outputs": [],
   "source": [
    "def fill_lr_all(a):\n",
    "    full_columns = a[:, np.where(~np.isnan(a).any(0))].squeeze()\n",
    "    if len(full_columns.shape) == 1:\n",
    "        full_columns = full_columns[:, np.newaxis]\n",
    "#     print(\"shape:\", full_columns.shape)\n",
    "    non_full_columns_idx = np.where(np.isnan(a).any(0))\n",
    "#     print(\"non_full_columns_idx:\", non_full_columns_idx[0].shape)\n",
    "    for idx in non_full_columns_idx[0]:\n",
    "#         print(\"idx:\", idx)\n",
    "#         print(\"full_columns shape:\", full_columns.shape, \"missed column:\", a[:, idx].shape)\n",
    "        fill_lr(full_columns, a[:, idx])\n",
    "        full_columns = np.hstack([full_columns, a[:, idx][:, np.newaxis]])\n",
    "    return a"
   ]
  },
  {
   "cell_type": "code",
   "execution_count": null,
   "metadata": {},
   "outputs": [],
   "source": []
  },
  {
   "cell_type": "code",
   "execution_count": 538,
   "metadata": {},
   "outputs": [
    {
     "data": {
      "text/plain": [
       "(array([[1.        , 0.        , 0.        ],\n",
       "        [0.33199278, 0.        , 0.25      ],\n",
       "        [0.33199278, 0.5       , 0.55809933],\n",
       "        [0.        , 1.        , 1.        ],\n",
       "        [0.66599639, 0.        , 0.125     ]]),\n",
       " array([3., 8., 9.]),\n",
       " array([0.00602039, 2.        , 1.        ]))"
      ]
     },
     "execution_count": 538,
     "metadata": {},
     "output_type": "execute_result"
    }
   ],
   "source": [
    "normalize(a)"
   ]
  }
 ],
 "metadata": {
  "kernelspec": {
   "display_name": "Python 3",
   "language": "python",
   "name": "python3"
  },
  "language_info": {
   "codemirror_mode": {
    "name": "ipython",
    "version": 3
   },
   "file_extension": ".py",
   "mimetype": "text/x-python",
   "name": "python",
   "nbconvert_exporter": "python",
   "pygments_lexer": "ipython3",
   "version": "3.6.2"
  }
 },
 "nbformat": 4,
 "nbformat_minor": 2
}
